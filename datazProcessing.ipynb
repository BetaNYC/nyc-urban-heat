{
 "cells": [
  {
   "cell_type": "code",
   "execution_count": 2,
   "metadata": {},
   "outputs": [],
   "source": [
    "import pandas as pd"
   ]
  },
  {
   "cell_type": "code",
   "execution_count": 3,
   "metadata": {},
   "outputs": [],
   "source": [
    "# df = pd.read_csv(\"./transposed_file.csv\")\n",
    "df = pd.read_csv('./datasets.csv')"
   ]
  },
  {
   "cell_type": "code",
   "execution_count": 19,
   "metadata": {},
   "outputs": [
    {
     "data": {
      "text/html": [
       "<div>\n",
       "<style scoped>\n",
       "    .dataframe tbody tr th:only-of-type {\n",
       "        vertical-align: middle;\n",
       "    }\n",
       "\n",
       "    .dataframe tbody tr th {\n",
       "        vertical-align: top;\n",
       "    }\n",
       "\n",
       "    .dataframe thead th {\n",
       "        text-align: right;\n",
       "    }\n",
       "</style>\n",
       "<table border=\"1\" class=\"dataframe\">\n",
       "  <thead>\n",
       "    <tr style=\"text-align: right;\">\n",
       "      <th></th>\n",
       "      <th>metric</th>\n",
       "      <th>max_value</th>\n",
       "      <th>min_value</th>\n",
       "    </tr>\n",
       "  </thead>\n",
       "  <tbody>\n",
       "    <tr>\n",
       "      <th>7</th>\n",
       "      <td>ST_20130601</td>\n",
       "      <td>113.894585</td>\n",
       "      <td>93.792595</td>\n",
       "    </tr>\n",
       "    <tr>\n",
       "      <th>8</th>\n",
       "      <td>ST_20140807</td>\n",
       "      <td>104.971161</td>\n",
       "      <td>86.123764</td>\n",
       "    </tr>\n",
       "    <tr>\n",
       "      <th>9</th>\n",
       "      <td>ST_20160609</td>\n",
       "      <td>89.693787</td>\n",
       "      <td>74.370148</td>\n",
       "    </tr>\n",
       "    <tr>\n",
       "      <th>10</th>\n",
       "      <td>ST_20160618</td>\n",
       "      <td>109.360954</td>\n",
       "      <td>89.895020</td>\n",
       "    </tr>\n",
       "    <tr>\n",
       "      <th>11</th>\n",
       "      <td>ST_20160625</td>\n",
       "      <td>109.298386</td>\n",
       "      <td>83.770676</td>\n",
       "    </tr>\n",
       "    <tr>\n",
       "      <th>12</th>\n",
       "      <td>ST_20170612</td>\n",
       "      <td>116.602760</td>\n",
       "      <td>93.296898</td>\n",
       "    </tr>\n",
       "    <tr>\n",
       "      <th>13</th>\n",
       "      <td>ST_20190830</td>\n",
       "      <td>99.043510</td>\n",
       "      <td>84.204140</td>\n",
       "    </tr>\n",
       "    <tr>\n",
       "      <th>14</th>\n",
       "      <td>ST_20190922</td>\n",
       "      <td>97.503395</td>\n",
       "      <td>81.421692</td>\n",
       "    </tr>\n",
       "    <tr>\n",
       "      <th>15</th>\n",
       "      <td>ST_20200613</td>\n",
       "      <td>102.807190</td>\n",
       "      <td>83.814659</td>\n",
       "    </tr>\n",
       "    <tr>\n",
       "      <th>16</th>\n",
       "      <td>ST_20200706</td>\n",
       "      <td>122.086067</td>\n",
       "      <td>98.888519</td>\n",
       "    </tr>\n",
       "    <tr>\n",
       "      <th>17</th>\n",
       "      <td>ST_20210623</td>\n",
       "      <td>97.433990</td>\n",
       "      <td>79.073349</td>\n",
       "    </tr>\n",
       "    <tr>\n",
       "      <th>18</th>\n",
       "      <td>ST_20210826</td>\n",
       "      <td>110.502373</td>\n",
       "      <td>89.667305</td>\n",
       "    </tr>\n",
       "    <tr>\n",
       "      <th>19</th>\n",
       "      <td>ST_20220509</td>\n",
       "      <td>85.012718</td>\n",
       "      <td>72.654610</td>\n",
       "    </tr>\n",
       "    <tr>\n",
       "      <th>20</th>\n",
       "      <td>ST_20220619</td>\n",
       "      <td>95.430748</td>\n",
       "      <td>76.364548</td>\n",
       "    </tr>\n",
       "    <tr>\n",
       "      <th>21</th>\n",
       "      <td>ST_20220704</td>\n",
       "      <td>117.319008</td>\n",
       "      <td>90.136314</td>\n",
       "    </tr>\n",
       "    <tr>\n",
       "      <th>22</th>\n",
       "      <td>ST_20220720</td>\n",
       "      <td>119.761154</td>\n",
       "      <td>97.234612</td>\n",
       "    </tr>\n",
       "    <tr>\n",
       "      <th>23</th>\n",
       "      <td>ST_20220914</td>\n",
       "      <td>94.657112</td>\n",
       "      <td>79.373428</td>\n",
       "    </tr>\n",
       "    <tr>\n",
       "      <th>24</th>\n",
       "      <td>ST_20220915</td>\n",
       "      <td>92.590858</td>\n",
       "      <td>76.614220</td>\n",
       "    </tr>\n",
       "    <tr>\n",
       "      <th>25</th>\n",
       "      <td>ST_20230723</td>\n",
       "      <td>112.003449</td>\n",
       "      <td>89.673195</td>\n",
       "    </tr>\n",
       "    <tr>\n",
       "      <th>26</th>\n",
       "      <td>ST_20230731</td>\n",
       "      <td>111.656387</td>\n",
       "      <td>86.054245</td>\n",
       "    </tr>\n",
       "    <tr>\n",
       "      <th>27</th>\n",
       "      <td>ST_20230809</td>\n",
       "      <td>106.229347</td>\n",
       "      <td>89.245758</td>\n",
       "    </tr>\n",
       "    <tr>\n",
       "      <th>28</th>\n",
       "      <td>ST_20230901</td>\n",
       "      <td>95.336838</td>\n",
       "      <td>77.939018</td>\n",
       "    </tr>\n",
       "    <tr>\n",
       "      <th>29</th>\n",
       "      <td>ST_20230902</td>\n",
       "      <td>98.760323</td>\n",
       "      <td>80.815811</td>\n",
       "    </tr>\n",
       "  </tbody>\n",
       "</table>\n",
       "</div>"
      ],
      "text/plain": [
       "         metric   max_value  min_value\n",
       "7   ST_20130601  113.894585  93.792595\n",
       "8   ST_20140807  104.971161  86.123764\n",
       "9   ST_20160609   89.693787  74.370148\n",
       "10  ST_20160618  109.360954  89.895020\n",
       "11  ST_20160625  109.298386  83.770676\n",
       "12  ST_20170612  116.602760  93.296898\n",
       "13  ST_20190830   99.043510  84.204140\n",
       "14  ST_20190922   97.503395  81.421692\n",
       "15  ST_20200613  102.807190  83.814659\n",
       "16  ST_20200706  122.086067  98.888519\n",
       "17  ST_20210623   97.433990  79.073349\n",
       "18  ST_20210826  110.502373  89.667305\n",
       "19  ST_20220509   85.012718  72.654610\n",
       "20  ST_20220619   95.430748  76.364548\n",
       "21  ST_20220704  117.319008  90.136314\n",
       "22  ST_20220720  119.761154  97.234612\n",
       "23  ST_20220914   94.657112  79.373428\n",
       "24  ST_20220915   92.590858  76.614220\n",
       "25  ST_20230723  112.003449  89.673195\n",
       "26  ST_20230731  111.656387  86.054245\n",
       "27  ST_20230809  106.229347  89.245758\n",
       "28  ST_20230901   95.336838  77.939018\n",
       "29  ST_20230902   98.760323  80.815811"
      ]
     },
     "execution_count": 19,
     "metadata": {},
     "output_type": "execute_result"
    }
   ],
   "source": [
    "filtered_df = df[df['metric'].str.contains('ST_20')]\n",
    "filtered_df = filtered_df.drop(columns=['date', 'type', 'downloads', 'downloads_2'])\n",
    "filtered_num = filtered_df.drop(columns=['metric']).drop(columns=['Unnamed: 0'])\n",
    "filtered_num = filtered_num.fillna(0)\n",
    "filtered_num = filtered_num.apply(pd.to_numeric, errors='coerce')\n",
    "filtered_df['max_value'] = filtered_num.max(axis=1)\n",
    "df_numeric_without_zero = filtered_num.replace(0, float('nan'))\n",
    "filtered_df['min_value'] = df_numeric_without_zero.min(axis=1)\n",
    "filtered_df[['metric', 'max_value', 'min_value']]"
   ]
  },
  {
   "cell_type": "code",
   "execution_count": 61,
   "metadata": {},
   "outputs": [
    {
     "data": {
      "text/plain": [
       "Index(['date', 'SI99', 'QN99', 'BX99', 'MN99', 'BX98', 'QN98', 'BK99'], dtype='object')"
      ]
     },
     "execution_count": 61,
     "metadata": {},
     "output_type": "execute_result"
    }
   ],
   "source": [
    "target_metric_row = df[df['metric'] == 'NTA_PCT_MRT_Less_Than_110']\n",
    "\n",
    "# Select only the numeric columns (excluding non-numeric ones like 'metric', 'date', etc.)\n",
    "numeric_columns = target_metric_row.select_dtypes(include=['float64']).columns\n",
    "\n",
    "# Multiply the numeric values by 100\n",
    "df.loc[df['metric'] == 'NTA_PCT_MRT_Less_Than_110', numeric_columns] = df.loc[df['metric'] == 'NTA_PCT_MRT_Less_Than_110', numeric_columns] * 100\n",
    "\n",
    "# Display the updated DataFrame\n",
    "print(df)"
   ]
  },
  {
   "cell_type": "code",
   "execution_count": 54,
   "metadata": {},
   "outputs": [
    {
     "ename": "KeyError",
     "evalue": "'NTA_PCT_MRT_Less_Than_110'",
     "output_type": "error",
     "traceback": [
      "\u001b[0;31m---------------------------------------------------------------------------\u001b[0m",
      "\u001b[0;31mKeyError\u001b[0m                                  Traceback (most recent call last)",
      "File \u001b[0;32m~/Library/Python/3.9/lib/python/site-packages/pandas/core/indexes/base.py:3805\u001b[0m, in \u001b[0;36mIndex.get_loc\u001b[0;34m(self, key)\u001b[0m\n\u001b[1;32m   3804\u001b[0m \u001b[38;5;28;01mtry\u001b[39;00m:\n\u001b[0;32m-> 3805\u001b[0m     \u001b[38;5;28;01mreturn\u001b[39;00m \u001b[38;5;28;43mself\u001b[39;49m\u001b[38;5;241;43m.\u001b[39;49m\u001b[43m_engine\u001b[49m\u001b[38;5;241;43m.\u001b[39;49m\u001b[43mget_loc\u001b[49m\u001b[43m(\u001b[49m\u001b[43mcasted_key\u001b[49m\u001b[43m)\u001b[49m\n\u001b[1;32m   3806\u001b[0m \u001b[38;5;28;01mexcept\u001b[39;00m \u001b[38;5;167;01mKeyError\u001b[39;00m \u001b[38;5;28;01mas\u001b[39;00m err:\n",
      "File \u001b[0;32mindex.pyx:167\u001b[0m, in \u001b[0;36mpandas._libs.index.IndexEngine.get_loc\u001b[0;34m()\u001b[0m\n",
      "File \u001b[0;32mindex.pyx:196\u001b[0m, in \u001b[0;36mpandas._libs.index.IndexEngine.get_loc\u001b[0;34m()\u001b[0m\n",
      "File \u001b[0;32mpandas/_libs/hashtable_class_helper.pxi:7081\u001b[0m, in \u001b[0;36mpandas._libs.hashtable.PyObjectHashTable.get_item\u001b[0;34m()\u001b[0m\n",
      "File \u001b[0;32mpandas/_libs/hashtable_class_helper.pxi:7089\u001b[0m, in \u001b[0;36mpandas._libs.hashtable.PyObjectHashTable.get_item\u001b[0;34m()\u001b[0m\n",
      "\u001b[0;31mKeyError\u001b[0m: 'NTA_PCT_MRT_Less_Than_110'",
      "\nThe above exception was the direct cause of the following exception:\n",
      "\u001b[0;31mKeyError\u001b[0m                                  Traceback (most recent call last)",
      "Cell \u001b[0;32mIn[54], line 1\u001b[0m\n\u001b[0;32m----> 1\u001b[0m \u001b[43mdf1\u001b[49m\u001b[43m[\u001b[49m\u001b[38;5;124;43m'\u001b[39;49m\u001b[38;5;124;43mNTA_PCT_MRT_Less_Than_110\u001b[39;49m\u001b[38;5;124;43m'\u001b[39;49m\u001b[43m]\u001b[49m\u001b[38;5;241m.\u001b[39mmax()\n",
      "File \u001b[0;32m~/Library/Python/3.9/lib/python/site-packages/pandas/core/frame.py:4102\u001b[0m, in \u001b[0;36mDataFrame.__getitem__\u001b[0;34m(self, key)\u001b[0m\n\u001b[1;32m   4100\u001b[0m \u001b[38;5;28;01mif\u001b[39;00m \u001b[38;5;28mself\u001b[39m\u001b[38;5;241m.\u001b[39mcolumns\u001b[38;5;241m.\u001b[39mnlevels \u001b[38;5;241m>\u001b[39m \u001b[38;5;241m1\u001b[39m:\n\u001b[1;32m   4101\u001b[0m     \u001b[38;5;28;01mreturn\u001b[39;00m \u001b[38;5;28mself\u001b[39m\u001b[38;5;241m.\u001b[39m_getitem_multilevel(key)\n\u001b[0;32m-> 4102\u001b[0m indexer \u001b[38;5;241m=\u001b[39m \u001b[38;5;28;43mself\u001b[39;49m\u001b[38;5;241;43m.\u001b[39;49m\u001b[43mcolumns\u001b[49m\u001b[38;5;241;43m.\u001b[39;49m\u001b[43mget_loc\u001b[49m\u001b[43m(\u001b[49m\u001b[43mkey\u001b[49m\u001b[43m)\u001b[49m\n\u001b[1;32m   4103\u001b[0m \u001b[38;5;28;01mif\u001b[39;00m is_integer(indexer):\n\u001b[1;32m   4104\u001b[0m     indexer \u001b[38;5;241m=\u001b[39m [indexer]\n",
      "File \u001b[0;32m~/Library/Python/3.9/lib/python/site-packages/pandas/core/indexes/base.py:3812\u001b[0m, in \u001b[0;36mIndex.get_loc\u001b[0;34m(self, key)\u001b[0m\n\u001b[1;32m   3807\u001b[0m     \u001b[38;5;28;01mif\u001b[39;00m \u001b[38;5;28misinstance\u001b[39m(casted_key, \u001b[38;5;28mslice\u001b[39m) \u001b[38;5;129;01mor\u001b[39;00m (\n\u001b[1;32m   3808\u001b[0m         \u001b[38;5;28misinstance\u001b[39m(casted_key, abc\u001b[38;5;241m.\u001b[39mIterable)\n\u001b[1;32m   3809\u001b[0m         \u001b[38;5;129;01mand\u001b[39;00m \u001b[38;5;28many\u001b[39m(\u001b[38;5;28misinstance\u001b[39m(x, \u001b[38;5;28mslice\u001b[39m) \u001b[38;5;28;01mfor\u001b[39;00m x \u001b[38;5;129;01min\u001b[39;00m casted_key)\n\u001b[1;32m   3810\u001b[0m     ):\n\u001b[1;32m   3811\u001b[0m         \u001b[38;5;28;01mraise\u001b[39;00m InvalidIndexError(key)\n\u001b[0;32m-> 3812\u001b[0m     \u001b[38;5;28;01mraise\u001b[39;00m \u001b[38;5;167;01mKeyError\u001b[39;00m(key) \u001b[38;5;28;01mfrom\u001b[39;00m \u001b[38;5;21;01merr\u001b[39;00m\n\u001b[1;32m   3813\u001b[0m \u001b[38;5;28;01mexcept\u001b[39;00m \u001b[38;5;167;01mTypeError\u001b[39;00m:\n\u001b[1;32m   3814\u001b[0m     \u001b[38;5;66;03m# If we have a listlike key, _check_indexing_error will raise\u001b[39;00m\n\u001b[1;32m   3815\u001b[0m     \u001b[38;5;66;03m#  InvalidIndexError. Otherwise we fall through and re-raise\u001b[39;00m\n\u001b[1;32m   3816\u001b[0m     \u001b[38;5;66;03m#  the TypeError.\u001b[39;00m\n\u001b[1;32m   3817\u001b[0m     \u001b[38;5;28mself\u001b[39m\u001b[38;5;241m.\u001b[39m_check_indexing_error(key)\n",
      "\u001b[0;31mKeyError\u001b[0m: 'NTA_PCT_MRT_Less_Than_110'"
     ]
    }
   ],
   "source": [
    "df1['NTA_PCT_MRT_Less_Than_110'].max()"
   ]
  },
  {
   "cell_type": "code",
   "execution_count": 48,
   "metadata": {},
   "outputs": [
    {
     "data": {
      "text/plain": [
       "32    0.110684017533593\n",
       "Name: QN12, dtype: object"
      ]
     },
     "execution_count": 48,
     "metadata": {},
     "output_type": "execute_result"
    }
   ],
   "source": [
    "nta_pct_mrt_less_than_110 = df[df['ntacode'] == 'NTA_PCT_MRT_Less_Than_110']\n",
    "\n",
    "# Display the result (all values in this row)\n",
    "nta_pct_mrt_less_than_110['QN12']"
   ]
  },
  {
   "cell_type": "code",
   "execution_count": 49,
   "metadata": {},
   "outputs": [],
   "source": [
    "df_combined = pd.concat([ df1, nta_pct_mrt_less_than_110,], axis=0, sort=False)\n",
    "df_combined = df_combined.drop(columns=['ntacode'])\n",
    "df_combined.to_csv(\"./datasets.csv\")"
   ]
  },
  {
   "cell_type": "code",
   "execution_count": 24,
   "metadata": {},
   "outputs": [],
   "source": [
    "# Remove the unwanted columns\n",
    "df = df.drop(columns=['Unnamed: 0', 'Unnamed: 0.1', 'NTA_Unq_ID'])\n",
    "\n",
    "# Save the original column names as a row\n",
    "df.columns = df.columns.astype(str)  # Ensure column names are treated as strings\n",
    "df_transposed = df.T\n",
    "\n",
    "# Reset index and set the first row as the header (column names)\n",
    "df_transposed.reset_index(drop=False, inplace=True)\n",
    "\n",
    "# Rename the first row to be the new column names\n",
    "df_transposed.columns = df_transposed.iloc[0]\n",
    "df_transposed = df_transposed.drop(0)  # Drop the first row since it is now the header\n",
    "\n",
    "# Display the transposed DataFrame\n",
    "df_transposed.to_csv('transposed_file.csv', index=False)\n"
   ]
  },
  {
   "cell_type": "code",
   "execution_count": 3,
   "metadata": {},
   "outputs": [
    {
     "data": {
      "text/plain": [
       "2528.5699999999997"
      ]
     },
     "execution_count": 3,
     "metadata": {},
     "output_type": "execute_result"
    }
   ],
   "source": [
    "492.33 + 1213.58 + 306.12 + 266.54 + 1100 - 850"
   ]
  }
 ],
 "metadata": {
  "kernelspec": {
   "display_name": "Python 3",
   "language": "python",
   "name": "python3"
  },
  "language_info": {
   "codemirror_mode": {
    "name": "ipython",
    "version": 3
   },
   "file_extension": ".py",
   "mimetype": "text/x-python",
   "name": "python",
   "nbconvert_exporter": "python",
   "pygments_lexer": "ipython3",
   "version": "3.9.6"
  }
 },
 "nbformat": 4,
 "nbformat_minor": 2
}
